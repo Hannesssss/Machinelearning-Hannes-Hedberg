{
 "cells": [
  {
   "cell_type": "markdown",
   "metadata": {},
   "source": [
    "# Machinelearning Labb"
   ]
  },
  {
   "cell_type": "markdown",
   "metadata": {},
   "source": [
    "*by Hannes*"
   ]
  },
  {
   "cell_type": "markdown",
   "metadata": {},
   "source": [
    "## 0. Imports"
   ]
  },
  {
   "cell_type": "code",
   "execution_count": 107,
   "metadata": {},
   "outputs": [],
   "source": [
    "import pandas as pd\n",
    "import matplotlib.pyplot as plt\n",
    "import seaborn as sns\n",
    "from IPython.display import display, Markdown"
   ]
  },
  {
   "cell_type": "markdown",
   "metadata": {},
   "source": [
    "## 1.1 Movielens EDA"
   ]
  },
  {
   "cell_type": "code",
   "execution_count": 108,
   "metadata": {},
   "outputs": [],
   "source": [
    "# Paths to the Data\n",
    "movies_df = pd.read_csv('Data/movies.csv')\n",
    "ratings_df = pd.read_csv('Data/ratings.csv')"
   ]
  },
  {
   "cell_type": "markdown",
   "metadata": {},
   "source": [
    "### 1.1.1 EDA Movies"
   ]
  },
  {
   "cell_type": "code",
   "execution_count": 109,
   "metadata": {},
   "outputs": [
    {
     "data": {
      "text/html": [
       "<div>\n",
       "<style scoped>\n",
       "    .dataframe tbody tr th:only-of-type {\n",
       "        vertical-align: middle;\n",
       "    }\n",
       "\n",
       "    .dataframe tbody tr th {\n",
       "        vertical-align: top;\n",
       "    }\n",
       "\n",
       "    .dataframe thead th {\n",
       "        text-align: right;\n",
       "    }\n",
       "</style>\n",
       "<table border=\"1\" class=\"dataframe\">\n",
       "  <thead>\n",
       "    <tr style=\"text-align: right;\">\n",
       "      <th></th>\n",
       "      <th>movieId</th>\n",
       "      <th>title</th>\n",
       "      <th>genres</th>\n",
       "    </tr>\n",
       "  </thead>\n",
       "  <tbody>\n",
       "    <tr>\n",
       "      <th>8974</th>\n",
       "      <td>26751</td>\n",
       "      <td>Rubin and Ed (1991)</td>\n",
       "      <td>Comedy|Drama</td>\n",
       "    </tr>\n",
       "    <tr>\n",
       "      <th>38742</th>\n",
       "      <td>154646</td>\n",
       "      <td>Slow Action (2010)</td>\n",
       "      <td>Sci-Fi</td>\n",
       "    </tr>\n",
       "    <tr>\n",
       "      <th>64029</th>\n",
       "      <td>208957</td>\n",
       "      <td>Extracurricular (2018)</td>\n",
       "      <td>Horror|Thriller</td>\n",
       "    </tr>\n",
       "    <tr>\n",
       "      <th>569</th>\n",
       "      <td>576</td>\n",
       "      <td>Fausto (1993)</td>\n",
       "      <td>Comedy</td>\n",
       "    </tr>\n",
       "    <tr>\n",
       "      <th>11990</th>\n",
       "      <td>56432</td>\n",
       "      <td>Swimming Pool, The (La piscine) (1969)</td>\n",
       "      <td>Crime|Drama</td>\n",
       "    </tr>\n",
       "  </tbody>\n",
       "</table>\n",
       "</div>"
      ],
      "text/plain": [
       "       movieId                                   title           genres\n",
       "8974     26751                     Rubin and Ed (1991)     Comedy|Drama\n",
       "38742   154646                      Slow Action (2010)           Sci-Fi\n",
       "64029   208957                  Extracurricular (2018)  Horror|Thriller\n",
       "569        576                           Fausto (1993)           Comedy\n",
       "11990    56432  Swimming Pool, The (La piscine) (1969)      Crime|Drama"
      ]
     },
     "execution_count": 109,
     "metadata": {},
     "output_type": "execute_result"
    }
   ],
   "source": [
    "movies_df.sample(5)"
   ]
  },
  {
   "cell_type": "code",
   "execution_count": 110,
   "metadata": {},
   "outputs": [
    {
     "data": {
      "text/html": [
       "<div>\n",
       "<style scoped>\n",
       "    .dataframe tbody tr th:only-of-type {\n",
       "        vertical-align: middle;\n",
       "    }\n",
       "\n",
       "    .dataframe tbody tr th {\n",
       "        vertical-align: top;\n",
       "    }\n",
       "\n",
       "    .dataframe thead th {\n",
       "        text-align: right;\n",
       "    }\n",
       "</style>\n",
       "<table border=\"1\" class=\"dataframe\">\n",
       "  <thead>\n",
       "    <tr style=\"text-align: right;\">\n",
       "      <th></th>\n",
       "      <th>movieId</th>\n",
       "      <th>title</th>\n",
       "      <th>genres</th>\n",
       "    </tr>\n",
       "  </thead>\n",
       "  <tbody>\n",
       "    <tr>\n",
       "      <th>0</th>\n",
       "      <td>1</td>\n",
       "      <td>Toy Story (1995)</td>\n",
       "      <td>Adventure|Animation|Children|Comedy|Fantasy</td>\n",
       "    </tr>\n",
       "    <tr>\n",
       "      <th>1</th>\n",
       "      <td>2</td>\n",
       "      <td>Jumanji (1995)</td>\n",
       "      <td>Adventure|Children|Fantasy</td>\n",
       "    </tr>\n",
       "    <tr>\n",
       "      <th>2</th>\n",
       "      <td>3</td>\n",
       "      <td>Grumpier Old Men (1995)</td>\n",
       "      <td>Comedy|Romance</td>\n",
       "    </tr>\n",
       "    <tr>\n",
       "      <th>3</th>\n",
       "      <td>4</td>\n",
       "      <td>Waiting to Exhale (1995)</td>\n",
       "      <td>Comedy|Drama|Romance</td>\n",
       "    </tr>\n",
       "    <tr>\n",
       "      <th>4</th>\n",
       "      <td>5</td>\n",
       "      <td>Father of the Bride Part II (1995)</td>\n",
       "      <td>Comedy</td>\n",
       "    </tr>\n",
       "  </tbody>\n",
       "</table>\n",
       "</div>"
      ],
      "text/plain": [
       "   movieId                               title  \\\n",
       "0        1                    Toy Story (1995)   \n",
       "1        2                      Jumanji (1995)   \n",
       "2        3             Grumpier Old Men (1995)   \n",
       "3        4            Waiting to Exhale (1995)   \n",
       "4        5  Father of the Bride Part II (1995)   \n",
       "\n",
       "                                        genres  \n",
       "0  Adventure|Animation|Children|Comedy|Fantasy  \n",
       "1                   Adventure|Children|Fantasy  \n",
       "2                               Comedy|Romance  \n",
       "3                         Comedy|Drama|Romance  \n",
       "4                                       Comedy  "
      ]
     },
     "execution_count": 110,
     "metadata": {},
     "output_type": "execute_result"
    }
   ],
   "source": [
    "movies_df.head()"
   ]
  },
  {
   "cell_type": "code",
   "execution_count": 111,
   "metadata": {},
   "outputs": [
    {
     "data": {
      "text/html": [
       "<div>\n",
       "<style scoped>\n",
       "    .dataframe tbody tr th:only-of-type {\n",
       "        vertical-align: middle;\n",
       "    }\n",
       "\n",
       "    .dataframe tbody tr th {\n",
       "        vertical-align: top;\n",
       "    }\n",
       "\n",
       "    .dataframe thead th {\n",
       "        text-align: right;\n",
       "    }\n",
       "</style>\n",
       "<table border=\"1\" class=\"dataframe\">\n",
       "  <thead>\n",
       "    <tr style=\"text-align: right;\">\n",
       "      <th></th>\n",
       "      <th>movieId</th>\n",
       "      <th>title</th>\n",
       "      <th>genres</th>\n",
       "    </tr>\n",
       "  </thead>\n",
       "  <tbody>\n",
       "    <tr>\n",
       "      <th>86532</th>\n",
       "      <td>288967</td>\n",
       "      <td>State of Siege: Temple Attack (2021)</td>\n",
       "      <td>Action|Drama</td>\n",
       "    </tr>\n",
       "    <tr>\n",
       "      <th>86533</th>\n",
       "      <td>288971</td>\n",
       "      <td>Ouija Japan (2021)</td>\n",
       "      <td>Action|Horror</td>\n",
       "    </tr>\n",
       "    <tr>\n",
       "      <th>86534</th>\n",
       "      <td>288975</td>\n",
       "      <td>The Men Who Made the Movies: Howard Hawks (1973)</td>\n",
       "      <td>Documentary</td>\n",
       "    </tr>\n",
       "    <tr>\n",
       "      <th>86535</th>\n",
       "      <td>288977</td>\n",
       "      <td>Skinford: Death Sentence (2023)</td>\n",
       "      <td>Crime|Thriller</td>\n",
       "    </tr>\n",
       "    <tr>\n",
       "      <th>86536</th>\n",
       "      <td>288983</td>\n",
       "      <td>UNZIPPED: An Autopsy of American Inequality (2...</td>\n",
       "      <td>Documentary</td>\n",
       "    </tr>\n",
       "  </tbody>\n",
       "</table>\n",
       "</div>"
      ],
      "text/plain": [
       "       movieId                                              title  \\\n",
       "86532   288967               State of Siege: Temple Attack (2021)   \n",
       "86533   288971                                 Ouija Japan (2021)   \n",
       "86534   288975   The Men Who Made the Movies: Howard Hawks (1973)   \n",
       "86535   288977                    Skinford: Death Sentence (2023)   \n",
       "86536   288983  UNZIPPED: An Autopsy of American Inequality (2...   \n",
       "\n",
       "               genres  \n",
       "86532    Action|Drama  \n",
       "86533   Action|Horror  \n",
       "86534     Documentary  \n",
       "86535  Crime|Thriller  \n",
       "86536     Documentary  "
      ]
     },
     "execution_count": 111,
     "metadata": {},
     "output_type": "execute_result"
    }
   ],
   "source": [
    "movies_df.tail()"
   ]
  },
  {
   "cell_type": "code",
   "execution_count": 112,
   "metadata": {},
   "outputs": [
    {
     "name": "stdout",
     "output_type": "stream",
     "text": [
      "<class 'pandas.core.frame.DataFrame'>\n",
      "RangeIndex: 86537 entries, 0 to 86536\n",
      "Data columns (total 3 columns):\n",
      " #   Column   Non-Null Count  Dtype \n",
      "---  ------   --------------  ----- \n",
      " 0   movieId  86537 non-null  int64 \n",
      " 1   title    86537 non-null  object\n",
      " 2   genres   86537 non-null  object\n",
      "dtypes: int64(1), object(2)\n",
      "memory usage: 2.0+ MB\n"
     ]
    }
   ],
   "source": [
    "movies_df.info()"
   ]
  },
  {
   "cell_type": "code",
   "execution_count": 113,
   "metadata": {},
   "outputs": [
    {
     "data": {
      "text/plain": [
       "(86537, 3)"
      ]
     },
     "execution_count": 113,
     "metadata": {},
     "output_type": "execute_result"
    }
   ],
   "source": [
    "movies_df.shape"
   ]
  },
  {
   "cell_type": "code",
   "execution_count": 114,
   "metadata": {},
   "outputs": [
    {
     "data": {
      "text/html": [
       "<div>\n",
       "<style scoped>\n",
       "    .dataframe tbody tr th:only-of-type {\n",
       "        vertical-align: middle;\n",
       "    }\n",
       "\n",
       "    .dataframe tbody tr th {\n",
       "        vertical-align: top;\n",
       "    }\n",
       "\n",
       "    .dataframe thead th {\n",
       "        text-align: right;\n",
       "    }\n",
       "</style>\n",
       "<table border=\"1\" class=\"dataframe\">\n",
       "  <thead>\n",
       "    <tr style=\"text-align: right;\">\n",
       "      <th></th>\n",
       "      <th>movieId</th>\n",
       "    </tr>\n",
       "  </thead>\n",
       "  <tbody>\n",
       "    <tr>\n",
       "      <th>count</th>\n",
       "      <td>86537.000000</td>\n",
       "    </tr>\n",
       "    <tr>\n",
       "      <th>mean</th>\n",
       "      <td>155932.817096</td>\n",
       "    </tr>\n",
       "    <tr>\n",
       "      <th>std</th>\n",
       "      <td>78037.145347</td>\n",
       "    </tr>\n",
       "    <tr>\n",
       "      <th>min</th>\n",
       "      <td>1.000000</td>\n",
       "    </tr>\n",
       "    <tr>\n",
       "      <th>25%</th>\n",
       "      <td>111443.000000</td>\n",
       "    </tr>\n",
       "    <tr>\n",
       "      <th>50%</th>\n",
       "      <td>164574.000000</td>\n",
       "    </tr>\n",
       "    <tr>\n",
       "      <th>75%</th>\n",
       "      <td>211225.000000</td>\n",
       "    </tr>\n",
       "    <tr>\n",
       "      <th>max</th>\n",
       "      <td>288983.000000</td>\n",
       "    </tr>\n",
       "  </tbody>\n",
       "</table>\n",
       "</div>"
      ],
      "text/plain": [
       "             movieId\n",
       "count   86537.000000\n",
       "mean   155932.817096\n",
       "std     78037.145347\n",
       "min         1.000000\n",
       "25%    111443.000000\n",
       "50%    164574.000000\n",
       "75%    211225.000000\n",
       "max    288983.000000"
      ]
     },
     "execution_count": 114,
     "metadata": {},
     "output_type": "execute_result"
    }
   ],
   "source": [
    "movies_df.describe()"
   ]
  },
  {
   "cell_type": "code",
   "execution_count": 115,
   "metadata": {},
   "outputs": [
    {
     "data": {
      "text/plain": [
       "Index(['movieId', 'title', 'genres'], dtype='object')"
      ]
     },
     "execution_count": 115,
     "metadata": {},
     "output_type": "execute_result"
    }
   ],
   "source": [
    "movies_df.columns"
   ]
  },
  {
   "cell_type": "code",
   "execution_count": 116,
   "metadata": {},
   "outputs": [
    {
     "data": {
      "text/plain": [
       "movieId     int64\n",
       "title      object\n",
       "genres     object\n",
       "dtype: object"
      ]
     },
     "execution_count": 116,
     "metadata": {},
     "output_type": "execute_result"
    }
   ],
   "source": [
    "movies_df.dtypes"
   ]
  },
  {
   "cell_type": "code",
   "execution_count": 117,
   "metadata": {},
   "outputs": [
    {
     "data": {
      "text/plain": [
       "movieId    0\n",
       "title      0\n",
       "genres     0\n",
       "dtype: int64"
      ]
     },
     "execution_count": 117,
     "metadata": {},
     "output_type": "execute_result"
    }
   ],
   "source": [
    "movies_df.isnull().sum()"
   ]
  },
  {
   "cell_type": "code",
   "execution_count": 118,
   "metadata": {},
   "outputs": [
    {
     "data": {
      "text/plain": [
       "movieId    86537\n",
       "title      86330\n",
       "genres      1796\n",
       "dtype: int64"
      ]
     },
     "execution_count": 118,
     "metadata": {},
     "output_type": "execute_result"
    }
   ],
   "source": [
    "movies_df.nunique()"
   ]
  },
  {
   "cell_type": "markdown",
   "metadata": {},
   "source": [
    "### 1.1.2 EDA Ratings"
   ]
  },
  {
   "cell_type": "code",
   "execution_count": 119,
   "metadata": {},
   "outputs": [
    {
     "data": {
      "text/html": [
       "<div>\n",
       "<style scoped>\n",
       "    .dataframe tbody tr th:only-of-type {\n",
       "        vertical-align: middle;\n",
       "    }\n",
       "\n",
       "    .dataframe tbody tr th {\n",
       "        vertical-align: top;\n",
       "    }\n",
       "\n",
       "    .dataframe thead th {\n",
       "        text-align: right;\n",
       "    }\n",
       "</style>\n",
       "<table border=\"1\" class=\"dataframe\">\n",
       "  <thead>\n",
       "    <tr style=\"text-align: right;\">\n",
       "      <th></th>\n",
       "      <th>userId</th>\n",
       "      <th>movieId</th>\n",
       "      <th>rating</th>\n",
       "      <th>timestamp</th>\n",
       "    </tr>\n",
       "  </thead>\n",
       "  <tbody>\n",
       "    <tr>\n",
       "      <th>26909057</th>\n",
       "      <td>262716</td>\n",
       "      <td>26694</td>\n",
       "      <td>3.0</td>\n",
       "      <td>1547989793</td>\n",
       "    </tr>\n",
       "    <tr>\n",
       "      <th>8771341</th>\n",
       "      <td>85997</td>\n",
       "      <td>72226</td>\n",
       "      <td>4.5</td>\n",
       "      <td>1350245178</td>\n",
       "    </tr>\n",
       "    <tr>\n",
       "      <th>22929942</th>\n",
       "      <td>223510</td>\n",
       "      <td>1247</td>\n",
       "      <td>1.0</td>\n",
       "      <td>1013487900</td>\n",
       "    </tr>\n",
       "    <tr>\n",
       "      <th>18452433</th>\n",
       "      <td>180752</td>\n",
       "      <td>3285</td>\n",
       "      <td>3.0</td>\n",
       "      <td>1331975493</td>\n",
       "    </tr>\n",
       "    <tr>\n",
       "      <th>13738034</th>\n",
       "      <td>134928</td>\n",
       "      <td>6350</td>\n",
       "      <td>4.5</td>\n",
       "      <td>1621709179</td>\n",
       "    </tr>\n",
       "  </tbody>\n",
       "</table>\n",
       "</div>"
      ],
      "text/plain": [
       "          userId  movieId  rating   timestamp\n",
       "26909057  262716    26694     3.0  1547989793\n",
       "8771341    85997    72226     4.5  1350245178\n",
       "22929942  223510     1247     1.0  1013487900\n",
       "18452433  180752     3285     3.0  1331975493\n",
       "13738034  134928     6350     4.5  1621709179"
      ]
     },
     "execution_count": 119,
     "metadata": {},
     "output_type": "execute_result"
    }
   ],
   "source": [
    "ratings_df.sample(5)"
   ]
  },
  {
   "cell_type": "code",
   "execution_count": 120,
   "metadata": {},
   "outputs": [
    {
     "data": {
      "text/html": [
       "<div>\n",
       "<style scoped>\n",
       "    .dataframe tbody tr th:only-of-type {\n",
       "        vertical-align: middle;\n",
       "    }\n",
       "\n",
       "    .dataframe tbody tr th {\n",
       "        vertical-align: top;\n",
       "    }\n",
       "\n",
       "    .dataframe thead th {\n",
       "        text-align: right;\n",
       "    }\n",
       "</style>\n",
       "<table border=\"1\" class=\"dataframe\">\n",
       "  <thead>\n",
       "    <tr style=\"text-align: right;\">\n",
       "      <th></th>\n",
       "      <th>userId</th>\n",
       "      <th>movieId</th>\n",
       "      <th>rating</th>\n",
       "      <th>timestamp</th>\n",
       "    </tr>\n",
       "  </thead>\n",
       "  <tbody>\n",
       "    <tr>\n",
       "      <th>0</th>\n",
       "      <td>1</td>\n",
       "      <td>1</td>\n",
       "      <td>4.0</td>\n",
       "      <td>1225734739</td>\n",
       "    </tr>\n",
       "    <tr>\n",
       "      <th>1</th>\n",
       "      <td>1</td>\n",
       "      <td>110</td>\n",
       "      <td>4.0</td>\n",
       "      <td>1225865086</td>\n",
       "    </tr>\n",
       "    <tr>\n",
       "      <th>2</th>\n",
       "      <td>1</td>\n",
       "      <td>158</td>\n",
       "      <td>4.0</td>\n",
       "      <td>1225733503</td>\n",
       "    </tr>\n",
       "    <tr>\n",
       "      <th>3</th>\n",
       "      <td>1</td>\n",
       "      <td>260</td>\n",
       "      <td>4.5</td>\n",
       "      <td>1225735204</td>\n",
       "    </tr>\n",
       "    <tr>\n",
       "      <th>4</th>\n",
       "      <td>1</td>\n",
       "      <td>356</td>\n",
       "      <td>5.0</td>\n",
       "      <td>1225735119</td>\n",
       "    </tr>\n",
       "  </tbody>\n",
       "</table>\n",
       "</div>"
      ],
      "text/plain": [
       "   userId  movieId  rating   timestamp\n",
       "0       1        1     4.0  1225734739\n",
       "1       1      110     4.0  1225865086\n",
       "2       1      158     4.0  1225733503\n",
       "3       1      260     4.5  1225735204\n",
       "4       1      356     5.0  1225735119"
      ]
     },
     "execution_count": 120,
     "metadata": {},
     "output_type": "execute_result"
    }
   ],
   "source": [
    "ratings_df.head()"
   ]
  },
  {
   "cell_type": "code",
   "execution_count": 121,
   "metadata": {},
   "outputs": [
    {
     "data": {
      "text/html": [
       "<div>\n",
       "<style scoped>\n",
       "    .dataframe tbody tr th:only-of-type {\n",
       "        vertical-align: middle;\n",
       "    }\n",
       "\n",
       "    .dataframe tbody tr th {\n",
       "        vertical-align: top;\n",
       "    }\n",
       "\n",
       "    .dataframe thead th {\n",
       "        text-align: right;\n",
       "    }\n",
       "</style>\n",
       "<table border=\"1\" class=\"dataframe\">\n",
       "  <thead>\n",
       "    <tr style=\"text-align: right;\">\n",
       "      <th></th>\n",
       "      <th>userId</th>\n",
       "      <th>movieId</th>\n",
       "      <th>rating</th>\n",
       "      <th>timestamp</th>\n",
       "    </tr>\n",
       "  </thead>\n",
       "  <tbody>\n",
       "    <tr>\n",
       "      <th>33832157</th>\n",
       "      <td>330975</td>\n",
       "      <td>8340</td>\n",
       "      <td>2.0</td>\n",
       "      <td>1091583256</td>\n",
       "    </tr>\n",
       "    <tr>\n",
       "      <th>33832158</th>\n",
       "      <td>330975</td>\n",
       "      <td>8493</td>\n",
       "      <td>2.5</td>\n",
       "      <td>1091585709</td>\n",
       "    </tr>\n",
       "    <tr>\n",
       "      <th>33832159</th>\n",
       "      <td>330975</td>\n",
       "      <td>8622</td>\n",
       "      <td>4.0</td>\n",
       "      <td>1091581777</td>\n",
       "    </tr>\n",
       "    <tr>\n",
       "      <th>33832160</th>\n",
       "      <td>330975</td>\n",
       "      <td>8665</td>\n",
       "      <td>3.0</td>\n",
       "      <td>1091581765</td>\n",
       "    </tr>\n",
       "    <tr>\n",
       "      <th>33832161</th>\n",
       "      <td>330975</td>\n",
       "      <td>8783</td>\n",
       "      <td>2.5</td>\n",
       "      <td>1091581799</td>\n",
       "    </tr>\n",
       "  </tbody>\n",
       "</table>\n",
       "</div>"
      ],
      "text/plain": [
       "          userId  movieId  rating   timestamp\n",
       "33832157  330975     8340     2.0  1091583256\n",
       "33832158  330975     8493     2.5  1091585709\n",
       "33832159  330975     8622     4.0  1091581777\n",
       "33832160  330975     8665     3.0  1091581765\n",
       "33832161  330975     8783     2.5  1091581799"
      ]
     },
     "execution_count": 121,
     "metadata": {},
     "output_type": "execute_result"
    }
   ],
   "source": [
    "ratings_df.tail()"
   ]
  },
  {
   "cell_type": "code",
   "execution_count": 122,
   "metadata": {},
   "outputs": [
    {
     "name": "stdout",
     "output_type": "stream",
     "text": [
      "<class 'pandas.core.frame.DataFrame'>\n",
      "RangeIndex: 33832162 entries, 0 to 33832161\n",
      "Data columns (total 4 columns):\n",
      " #   Column     Dtype  \n",
      "---  ------     -----  \n",
      " 0   userId     int64  \n",
      " 1   movieId    int64  \n",
      " 2   rating     float64\n",
      " 3   timestamp  int64  \n",
      "dtypes: float64(1), int64(3)\n",
      "memory usage: 1.0 GB\n"
     ]
    }
   ],
   "source": [
    "ratings_df.info()"
   ]
  },
  {
   "cell_type": "code",
   "execution_count": 123,
   "metadata": {},
   "outputs": [
    {
     "data": {
      "text/plain": [
       "(33832162, 4)"
      ]
     },
     "execution_count": 123,
     "metadata": {},
     "output_type": "execute_result"
    }
   ],
   "source": [
    "ratings_df.shape"
   ]
  },
  {
   "cell_type": "code",
   "execution_count": 124,
   "metadata": {},
   "outputs": [
    {
     "data": {
      "text/html": [
       "<div>\n",
       "<style scoped>\n",
       "    .dataframe tbody tr th:only-of-type {\n",
       "        vertical-align: middle;\n",
       "    }\n",
       "\n",
       "    .dataframe tbody tr th {\n",
       "        vertical-align: top;\n",
       "    }\n",
       "\n",
       "    .dataframe thead th {\n",
       "        text-align: right;\n",
       "    }\n",
       "</style>\n",
       "<table border=\"1\" class=\"dataframe\">\n",
       "  <thead>\n",
       "    <tr style=\"text-align: right;\">\n",
       "      <th></th>\n",
       "      <th>userId</th>\n",
       "      <th>movieId</th>\n",
       "      <th>rating</th>\n",
       "      <th>timestamp</th>\n",
       "    </tr>\n",
       "  </thead>\n",
       "  <tbody>\n",
       "    <tr>\n",
       "      <th>count</th>\n",
       "      <td>3.383216e+07</td>\n",
       "      <td>3.383216e+07</td>\n",
       "      <td>3.383216e+07</td>\n",
       "      <td>3.383216e+07</td>\n",
       "    </tr>\n",
       "    <tr>\n",
       "      <th>mean</th>\n",
       "      <td>1.654380e+05</td>\n",
       "      <td>2.831348e+04</td>\n",
       "      <td>3.542540e+00</td>\n",
       "      <td>1.269362e+09</td>\n",
       "    </tr>\n",
       "    <tr>\n",
       "      <th>std</th>\n",
       "      <td>9.534122e+04</td>\n",
       "      <td>4.992865e+04</td>\n",
       "      <td>1.063959e+00</td>\n",
       "      <td>2.541023e+08</td>\n",
       "    </tr>\n",
       "    <tr>\n",
       "      <th>min</th>\n",
       "      <td>1.000000e+00</td>\n",
       "      <td>1.000000e+00</td>\n",
       "      <td>5.000000e-01</td>\n",
       "      <td>7.896520e+08</td>\n",
       "    </tr>\n",
       "    <tr>\n",
       "      <th>25%</th>\n",
       "      <td>8.295300e+04</td>\n",
       "      <td>1.219000e+03</td>\n",
       "      <td>3.000000e+00</td>\n",
       "      <td>1.046718e+09</td>\n",
       "    </tr>\n",
       "    <tr>\n",
       "      <th>50%</th>\n",
       "      <td>1.661290e+05</td>\n",
       "      <td>3.263000e+03</td>\n",
       "      <td>4.000000e+00</td>\n",
       "      <td>1.264740e+09</td>\n",
       "    </tr>\n",
       "    <tr>\n",
       "      <th>75%</th>\n",
       "      <td>2.474500e+05</td>\n",
       "      <td>4.049100e+04</td>\n",
       "      <td>4.000000e+00</td>\n",
       "      <td>1.496919e+09</td>\n",
       "    </tr>\n",
       "    <tr>\n",
       "      <th>max</th>\n",
       "      <td>3.309750e+05</td>\n",
       "      <td>2.889830e+05</td>\n",
       "      <td>5.000000e+00</td>\n",
       "      <td>1.689843e+09</td>\n",
       "    </tr>\n",
       "  </tbody>\n",
       "</table>\n",
       "</div>"
      ],
      "text/plain": [
       "             userId       movieId        rating     timestamp\n",
       "count  3.383216e+07  3.383216e+07  3.383216e+07  3.383216e+07\n",
       "mean   1.654380e+05  2.831348e+04  3.542540e+00  1.269362e+09\n",
       "std    9.534122e+04  4.992865e+04  1.063959e+00  2.541023e+08\n",
       "min    1.000000e+00  1.000000e+00  5.000000e-01  7.896520e+08\n",
       "25%    8.295300e+04  1.219000e+03  3.000000e+00  1.046718e+09\n",
       "50%    1.661290e+05  3.263000e+03  4.000000e+00  1.264740e+09\n",
       "75%    2.474500e+05  4.049100e+04  4.000000e+00  1.496919e+09\n",
       "max    3.309750e+05  2.889830e+05  5.000000e+00  1.689843e+09"
      ]
     },
     "execution_count": 124,
     "metadata": {},
     "output_type": "execute_result"
    }
   ],
   "source": [
    "ratings_df.describe()"
   ]
  },
  {
   "cell_type": "code",
   "execution_count": 125,
   "metadata": {},
   "outputs": [
    {
     "data": {
      "text/plain": [
       "Index(['userId', 'movieId', 'rating', 'timestamp'], dtype='object')"
      ]
     },
     "execution_count": 125,
     "metadata": {},
     "output_type": "execute_result"
    }
   ],
   "source": [
    "ratings_df.columns"
   ]
  },
  {
   "cell_type": "code",
   "execution_count": 126,
   "metadata": {},
   "outputs": [
    {
     "data": {
      "text/plain": [
       "userId         int64\n",
       "movieId        int64\n",
       "rating       float64\n",
       "timestamp      int64\n",
       "dtype: object"
      ]
     },
     "execution_count": 126,
     "metadata": {},
     "output_type": "execute_result"
    }
   ],
   "source": [
    "ratings_df.dtypes"
   ]
  },
  {
   "cell_type": "code",
   "execution_count": 127,
   "metadata": {},
   "outputs": [
    {
     "data": {
      "text/plain": [
       "userId       0\n",
       "movieId      0\n",
       "rating       0\n",
       "timestamp    0\n",
       "dtype: int64"
      ]
     },
     "execution_count": 127,
     "metadata": {},
     "output_type": "execute_result"
    }
   ],
   "source": [
    "ratings_df.isnull().sum()"
   ]
  },
  {
   "cell_type": "code",
   "execution_count": 128,
   "metadata": {},
   "outputs": [
    {
     "data": {
      "text/plain": [
       "userId         330975\n",
       "movieId         83239\n",
       "rating             10\n",
       "timestamp    27419646\n",
       "dtype: int64"
      ]
     },
     "execution_count": 128,
     "metadata": {},
     "output_type": "execute_result"
    }
   ],
   "source": [
    "ratings_df.nunique()"
   ]
  },
  {
   "cell_type": "markdown",
   "metadata": {},
   "source": [
    "### 1.1.3 Q:A"
   ]
  },
  {
   "cell_type": "markdown",
   "metadata": {},
   "source": [
    "#### A) Top 10 movies with most amount of ratings"
   ]
  },
  {
   "cell_type": "markdown",
   "metadata": {},
   "source": [
    "#### B) Calculate the avrage rating for the 10 movies with most ratings"
   ]
  },
  {
   "cell_type": "code",
   "execution_count": 129,
   "metadata": {},
   "outputs": [
    {
     "data": {
      "text/markdown": [
       "| Rank | Movie Title | Rating Count | Average Rating |\n",
       "|------|-------------|--------------|----------------|\n",
       "| 1 | Shawshank Redemption, The (1994) | 122,296 | 4.4 |\n",
       "| 2 | Forrest Gump (1994) | 113,581 | 4.1 |\n",
       "| 3 | Pulp Fiction (1994) | 108,756 | 4.2 |\n",
       "| 4 | Matrix, The (1999) | 107,056 | 4.2 |\n",
       "| 5 | Silence of the Lambs, The (1991) | 101,802 | 4.2 |\n",
       "| 6 | Star Wars: Episode IV - A New Hope (1977) | 97,202 | 4.1 |\n",
       "| 7 | Fight Club (1999) | 86,207 | 4.2 |\n",
       "| 8 | Schindler's List (1993) | 84,232 | 4.2 |\n",
       "| 9 | Jurassic Park (1993) | 83,026 | 3.7 |\n",
       "| 10 | Star Wars: Episode V - The Empire Strikes Back (1980) | 80,200 | 4.1 |\n"
      ],
      "text/plain": [
       "<IPython.core.display.Markdown object>"
      ]
     },
     "metadata": {},
     "output_type": "display_data"
    }
   ],
   "source": [
    "# Count the number of ratings for each movie\n",
    "ratings_count = ratings_df.groupby('movieId').size().reset_index(name='count')\n",
    "\n",
    "# Merge with movies_df to get movie titles\n",
    "movies_with_ratings_count = pd.merge(movies_df, ratings_count, on='movieId')\n",
    "\n",
    "# Sort movies by the number of ratings in descending order and get the top 10\n",
    "top_movies = movies_with_ratings_count.sort_values('count', ascending=False).head(10)\n",
    "\n",
    "# Calculate the average rating for the top movies and round to one decimal place\n",
    "average_ratings = ratings_df[ratings_df['movieId'].isin(top_movies['movieId'])] \\\n",
    "                    .groupby('movieId')['rating'].mean().round(1).reset_index()\n",
    "\n",
    "# Add the average ratings to the top_movies DataFrame\n",
    "top_movies_with_avg_ratings = pd.merge(top_movies, average_ratings, on='movieId')\n",
    "\n",
    "# Reset the index to start from 1 for display purposes and rename columns for presentation\n",
    "top_movies_with_avg_ratings.reset_index(drop=True, inplace=True)\n",
    "top_movies_with_avg_ratings['count'] = top_movies_with_avg_ratings['count'].apply(lambda x: \"{:,}\".format(x))\n",
    "top_movies_with_avg_ratings.rename(columns={'title': 'Movie Title', 'count': 'Rating Count', 'rating': 'Average Rating'}, inplace=True)\n",
    "top_movies_with_avg_ratings.index += 1  # Adjust index to start from 1\n",
    "\n",
    "# Generate the Markdown table\n",
    "markdown_table = \"| Rank | Movie Title | Rating Count | Average Rating |\\n\"\n",
    "markdown_table += \"|------|-------------|--------------|----------------|\\n\"\n",
    "\n",
    "# Fill the table with data from the DataFrame\n",
    "for index, row in top_movies_with_avg_ratings.iterrows():\n",
    "    markdown_table += f\"| {index} | {row['Movie Title']} | {row['Rating Count']} | {row['Average Rating']} |\\n\"\n",
    "\n",
    "# Display the Markdown table in Jupyter Notebook\n",
    "display(Markdown(markdown_table))\n"
   ]
  },
  {
   "cell_type": "markdown",
   "metadata": {},
   "source": [
    "#### C) Plot the years and number of movies represented in the dataset"
   ]
  },
  {
   "cell_type": "code",
   "execution_count": 130,
   "metadata": {},
   "outputs": [
    {
     "data": {
      "image/png": "[encoded data removed]",
      "text/plain": [
       "<Figure size 1400x700 with 1 Axes>"
      ]
     },
     "metadata": {},
     "output_type": "display_data"
    }
   ],
   "source": [
    "plt.figure(figsize=(14, 7))  # Larger figure size for better visibility\n",
    "movies_per_year.plot(kind='line', color='blue')\n",
    "plt.title('Number of Movies Released per Year')\n",
    "plt.xlabel('Year')\n",
    "plt.ylabel('Number of Movies')\n",
    "plt.xticks(rotation=360)  # Rotate the x-axis labels to be vertical\n",
    "plt.grid(True)  # Optional: adds a grid for better readability\n",
    "plt.tight_layout()  # Ensure everything fits without overlapping\n",
    "plt.show()\n"
   ]
  },
  {
   "cell_type": "markdown",
   "metadata": {},
   "source": [
    "#### D) Make a plot of the number of ratings against movieId"
   ]
  },
  {
   "cell_type": "code",
   "execution_count": 131,
   "metadata": {},
   "outputs": [
    {
     "data": {
      "image/png": "[encoded data removed]",
      "text/plain": [
       "<Figure size 1400x700 with 1 Axes>"
      ]
     },
     "metadata": {},
     "output_type": "display_data"
    }
   ],
   "source": [
    "import matplotlib.pyplot as plt\n",
    "import pandas as pd\n",
    "\n",
    "# Assuming ratings_df is your DataFrame containing ratings data\n",
    "\n",
    "# Group by 'movieId' and count the number of ratings for each movie\n",
    "ratings_per_movie = ratings_df.groupby('movieId').size()\n",
    "\n",
    "# Create the plot\n",
    "plt.figure(figsize=(14, 7))\n",
    "plt.plot(ratings_per_movie.index, ratings_per_movie.values, 'b-', marker='.', markersize=2)\n",
    "plt.title('Number of Ratings per Movie')\n",
    "plt.xlabel('Movie ID')\n",
    "plt.ylabel('Number of Ratings')\n",
    "plt.grid(True)\n",
    "plt.show()\n"
   ]
  },
  {
   "cell_type": "markdown",
   "metadata": {},
   "source": [
    "#### E) Calculate average ratings for the top 10 movies with the most ratings. Make a bar graph of these"
   ]
  },
  {
   "cell_type": "code",
   "execution_count": 132,
   "metadata": {},
   "outputs": [
    {
     "data": {
      "image/png": "[encoded data removed]",
      "text/plain": [
       "<Figure size 1000x800 with 1 Axes>"
      ]
     },
     "metadata": {},
     "output_type": "display_data"
    }
   ],
   "source": [
    "# Merge the Movies and Ratings dataframes on the movie ID\n",
    "merged_df = pd.merge(ratings_df, movies_df, on='movieId')\n",
    "\n",
    "# Count the number of ratings for each movie and find the top 10 movies with the most ratings\n",
    "ratings_count = merged_df.groupby('movieId').size().sort_values(ascending=False).head(10)\n",
    "\n",
    "# Filter the merged dataframe to only include the top 10 movies\n",
    "top_movies_df = merged_df[merged_df['movieId'].isin(ratings_count.index)]\n",
    "\n",
    "# Calculate the average rating for each of the top 10 movies\n",
    "avg_ratings = top_movies_df.groupby('title')['rating'].mean().sort_values(ascending=True)\n",
    "\n",
    "# Plotting the average ratings in a bar chart\n",
    "plt.figure(figsize=(10, 8))\n",
    "avg_ratings.plot(kind='barh', color='skyblue')\n",
    "plt.title('Average Ratings for Top 10 Movies with Most Ratings')\n",
    "plt.xlabel('Average Rating')\n",
    "plt.ylabel('Movie Title')\n",
    "plt.tight_layout()\n",
    "plt.show()"
   ]
  },
  {
   "cell_type": "markdown",
   "metadata": {},
   "source": [
    "## 1.2 Sparse matrix"
   ]
  },
  {
   "cell_type": "code",
   "execution_count": 133,
   "metadata": {},
   "outputs": [
    {
     "name": "stdout",
     "output_type": "stream",
     "text": [
      "Sparse Matrix Shape: (32021, 307411)\n",
      "Number of Non-Zero Elements: 33625087\n"
     ]
    }
   ],
   "source": [
    "from scipy.sparse import csc_matrix\n",
    "import numpy as np\n",
    "\n",
    "# Step 1: Filtering\n",
    "# Adjust these thresholds based on your dataset and computational resources\n",
    "min_ratings_per_movie = 10\n",
    "min_ratings_per_user = 5\n",
    "\n",
    "# Filtering movies\n",
    "movie_counts = ratings_df['movieId'].value_counts()\n",
    "movies_filtered = movie_counts.index[movie_counts >= min_ratings_per_movie]\n",
    "\n",
    "# Filtering users\n",
    "user_counts = ratings_df['userId'].value_counts()\n",
    "users_filtered = user_counts.index[user_counts >= min_ratings_per_user]\n",
    "\n",
    "# Apply filtering\n",
    "filtered_ratings = ratings_df[(ratings_df['movieId'].isin(movies_filtered)) & (ratings_df['userId'].isin(users_filtered))]\n",
    "\n",
    "# Step 2: Preparing data for sparse matrix\n",
    "# Ensure movieId and userId are categorical for efficient storage\n",
    "# Before modifying the filtered DataFrame, explicitly create a copy to work with\n",
    "filtered_ratings = filtered_ratings.copy()\n",
    "\n",
    "# Now safely convert 'movieId' and 'userId' to categorical types without warnings\n",
    "filtered_ratings['movieId'] = filtered_ratings['movieId'].astype(\"category\")\n",
    "filtered_ratings['userId'] = filtered_ratings['userId'].astype(\"category\")\n",
    "\n",
    "# Continue with creating the sparse matrix as before\n",
    "movie_indices = filtered_ratings['movieId'].cat.codes\n",
    "user_indices = filtered_ratings['userId'].cat.codes\n",
    "sparse_matrix = csc_matrix((filtered_ratings['rating'].values, (movie_indices, user_indices)), \n",
    "                           shape=(filtered_ratings['movieId'].cat.categories.size, filtered_ratings['userId'].cat.categories.size))\n",
    "\n",
    "print(f\"Sparse Matrix Shape: {sparse_matrix.shape}\")\n",
    "print(f\"Number of Non-Zero Elements: {sparse_matrix.nnz}\")"
   ]
  },
  {
   "cell_type": "markdown",
   "metadata": {},
   "source": [
    "This filtering choice targetets movie popularity and user activity. By selecting movies with a minimum number of ratings and users who have engaged with a minimum number of movies, we can focus on the most informative interactions. This not only aids in managing computational resources more effectively but also enhances the potential accuracy and relevance of any resulting recommendation models by concentrating on the core, active part of the dataset."
   ]
  },
  {
   "cell_type": "markdown",
   "metadata": {},
   "source": [
    "## 1.3 Recommending system"
   ]
  },
  {
   "cell_type": "markdown",
   "metadata": {},
   "source": [
    "### Overview of Steps:\n",
    "\n",
    "1. **Pre-Processing**: Ensure the data is suitable for a KNN model. This includes using the sparse matrix created earlier as the input data.\n",
    "2. **Model Fitting**: Use the `NearestNeighbors` class from `sklearn.neighbors` to fit the model based on the sparse matrix.\n",
    "3. **User Query**: Process user input to find the user's closest neighbors in the dataset.\n",
    "4. **Recommendation Logic**: Identify the top 5 recommended movies based on the similarity scores from the KNN model."
   ]
  },
  {
   "cell_type": "code",
   "execution_count": 134,
   "metadata": {},
   "outputs": [
    {
     "name": "stdout",
     "output_type": "stream",
     "text": [
      "Top 5 recommended movies based on your interest in \"Batman\":\n",
      "\n",
      "1. Batman Forever (1995)\n",
      "2. Die Hard: With a Vengeance (1995)\n",
      "3. Ace Ventura: Pet Detective (1994)\n",
      "4. True Lies (1994)\n",
      "5. Dances with Wolves (1990)\n"
     ]
    }
   ],
   "source": [
    "from sklearn.neighbors import NearestNeighbors\n",
    "import pandas as pd\n",
    "import numpy as np\n",
    "\n",
    "# Initialize and fit the KNN model\n",
    "model_knn = NearestNeighbors(metric='cosine', algorithm='brute', n_neighbors=20, n_jobs=-1)\n",
    "model_knn.fit(sparse_matrix)\n",
    "\n",
    "def get_movie_indices_from_query(search_query, movies_df):\n",
    "    \"\"\"\n",
    "    Searches movies_df for titles containing the search query and returns their indices.\n",
    "    \n",
    "    :param search_query: String, the user's search query for movie titles.\n",
    "    :param movies_df: DataFrame, containing movie information.\n",
    "    :return: List of integers, indices of matching movies in movies_df.\n",
    "    \"\"\"\n",
    "    # Find movies matching the search query\n",
    "    matching_movies = movies_df[movies_df['title'].str.contains(search_query, case=False, na=False)]\n",
    "    return matching_movies.index.tolist()\n",
    "\n",
    "# User input example\n",
    "search_query = \"Batman\"\n",
    "\n",
    "# Retrieve indices of movies matching the user's query\n",
    "movie_indices = get_movie_indices_from_query(search_query, movies_df)\n",
    "\n",
    "if movie_indices:\n",
    "    # Ensure indices are within the range of the sparse matrix\n",
    "    valid_indices = [i for i in movie_indices if i < sparse_matrix.shape[0]]\n",
    "    \n",
    "    if valid_indices:\n",
    "        # Compute the mean vector for the selected movies as the query vector\n",
    "        query_vector = sparse_matrix[valid_indices].mean(axis=0).A  # Convert to dense array if needed\n",
    "        query_vector_np = np.asarray(query_vector)  # Ensure query_vector is in NumPy array format\n",
    "        \n",
    "        # Perform the KNN query\n",
    "        distances, indices = model_knn.kneighbors(query_vector_np, n_neighbors=6)\n",
    "        \n",
    "        # Translate indices back to movie titles, skipping the first index as it's the query itself\n",
    "        recommended_movie_ids = [movies_df.iloc[idx]['movieId'] for idx in indices.flatten()[1:6]]\n",
    "        recommended_movies = movies_df[movies_df['movieId'].isin(recommended_movie_ids)]['title'].tolist()\n",
    "        \n",
    "        # Print the top 5 recommended movies in a more readable format\n",
    "        print(\"Top 5 recommended movies based on your interest in \\\"{}\\\":\\n\".format(search_query))\n",
    "        for i, movie_title in enumerate(recommended_movies, 1):\n",
    "            print(\"{}. {}\".format(i, movie_title))\n",
    "    else:\n",
    "        print(\"No valid movie indices found for the query.\")\n",
    "else:\n",
    "    print(\"No movies found matching the query.\")\n"
   ]
  },
  {
   "cell_type": "markdown",
   "metadata": {},
   "source": [
    "### 1.3.1 Recommending systems overview"
   ]
  },
  {
   "cell_type": "markdown",
   "metadata": {},
   "source": [
    "Recommender systems are algorithms designed to suggest relevant items to users, based on their preferences or past interactions. They are widely used in various online platforms such as e-commerce websites, streaming services, and social media platforms to enhance user experience and engagement.\n",
    "\n",
    "There are several types of recommender systems, including:\n",
    "\n",
    "1. **Collaborative Filtering**: This approach recommends items by leveraging the preferences or behavior of similar users. It can be further categorized into user-based collaborative filtering, which recommends items based on the preferences of similar users, and item-based collaborative filtering, which recommends items similar to those the user has interacted with in the past.\n",
    "\n",
    "2. **Content-Based Filtering**: This approach recommends items based on their attributes or features, such as genre, keywords, or metadata. It analyzes the content of items and matches them to the user's preferences.\n",
    "\n",
    "3. **Hybrid Recommender Systems**: These systems combine multiple recommendation techniques, such as collaborative filtering and content-based filtering, to provide more accurate and personalized recommendations.\n",
    "\n",
    "Recommender systems typically involves the following steps:\n",
    "\n",
    "1. **Data Collection**: Relevant data about users, items, and their interactions are collected and stored in a database. This data may include user ratings, item attributes, purchase history, etc.\n",
    "\n",
    "2. **Data Preprocessing**: The collected data is processed and transformed into a suitable format for analysis. This may involve cleaning the data, handling missing values, and encoding categorical variables.\n",
    "\n",
    "3. **Model Training**: Depending on the chosen approach a recommender system model is trained using the preprocessed data. For content-based filtering, it may involve building a model to predict user preferences based on item attributes.\n",
    "\n",
    "4. **Recommendation Generation**: Once the model is trained, it can generate recommendations for users based on their preferences or behavior. These recommendations are typically ranked based on relevance and presented to the user through a user interface.\n",
    "\n",
    "It's important to note that recommender systems can be further customized and optimized based on specific use cases and business objectives.\n",
    "\n",
    "Sources:\n",
    "- Resnick, P., & Varian, H. R. (1997). \"Recommender systems.\" Communications of the ACM, 40(3), 56-58.\n",
    "- Adomavicius, G., & Tuzhilin, A. (2005). \"Toward the next generation of recommender systems: A survey of the state-of-the-art and possible extensions.\" IEEE Transactions on Knowledge and Data Engineering, 17(6), 734-749."
   ]
  }
 ],
 "metadata": {
  "kernelspec": {
   "display_name": "Python 3",
   "language": "python",
   "name": "python3"
  },
  "language_info": {
   "codemirror_mode": {
    "name": "ipython",
    "version": 3
   },
   "file_extension": ".py",
   "mimetype": "text/x-python",
   "name": "python",
   "nbconvert_exporter": "python",
   "pygments_lexer": "ipython3",
   "version": "3.11.5"
  }
 },
 "nbformat": 4,
 "nbformat_minor": 2
}
